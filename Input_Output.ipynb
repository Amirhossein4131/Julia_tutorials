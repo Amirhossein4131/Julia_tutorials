{
 "cells": [
  {
   "cell_type": "markdown",
   "id": "f29b1333-897c-4963-8d91-63933bdcbb5e",
   "metadata": {},
   "source": [
    "# Input/Output (I/O) Operations"
   ]
  },
  {
   "cell_type": "code",
   "execution_count": 10,
   "id": "25f7c875-899c-4d18-8b21-250953b146e8",
   "metadata": {},
   "outputs": [
    {
     "data": {
      "text/plain": [
       "49"
      ]
     },
     "execution_count": 10,
     "metadata": {},
     "output_type": "execute_result"
    }
   ],
   "source": [
    "# write to text\n",
    "open(\"write_to_text.txt\", \"w\") do file\n",
    "    write(file, \"Amir is learing Julia!\\nAmir is looking for a job!\")\n",
    "end"
   ]
  },
  {
   "cell_type": "code",
   "execution_count": 11,
   "id": "f49546fa-2398-4f2e-8614-4adb87ce2910",
   "metadata": {},
   "outputs": [
    {
     "name": "stdout",
     "output_type": "stream",
     "text": [
      "Amir is learing Julia!\n",
      "Amir is looking for a job!\n"
     ]
    }
   ],
   "source": [
    "# Read from text\n",
    "content = read(\"write_to_text.txt\", String)\n",
    "println(content)\n"
   ]
  },
  {
   "cell_type": "code",
   "execution_count": 12,
   "id": "d9b071d2-89a2-454f-9603-eae54f605884",
   "metadata": {},
   "outputs": [
    {
     "name": "stdout",
     "output_type": "stream",
     "text": [
      "Amir is learing Julia!\n",
      "Amir is looking for a job!\n"
     ]
    }
   ],
   "source": [
    "# Read file line-by-line\n",
    "open(\"write_to_text.txt\", \"r\") do file\n",
    "    for line in eachline(file)\n",
    "        println(line)\n",
    "    end\n",
    "end"
   ]
  },
  {
   "cell_type": "markdown",
   "id": "beac7107-9ecf-488d-b658-476cc700e285",
   "metadata": {},
   "source": [
    "#### Working with CSV files"
   ]
  },
  {
   "cell_type": "code",
   "execution_count": 14,
   "id": "2bcb92da-e259-4102-b8d9-3b32f65724e1",
   "metadata": {},
   "outputs": [
    {
     "name": "stderr",
     "output_type": "stream",
     "text": [
      "\u001b[32m\u001b[1m   Resolving\u001b[22m\u001b[39m package versions...\n",
      "\u001b[32m\u001b[1m  No Changes\u001b[22m\u001b[39m to `~/.julia/environments/v1.8/Project.toml`\n",
      "\u001b[32m\u001b[1m  No Changes\u001b[22m\u001b[39m to `~/.julia/environments/v1.8/Manifest.toml`\n"
     ]
    }
   ],
   "source": [
    "import Pkg\n",
    "Pkg.add(\"CSV\")"
   ]
  },
  {
   "cell_type": "code",
   "execution_count": 15,
   "id": "6e52a09d-9b3e-4646-9e47-27a8555c31f3",
   "metadata": {},
   "outputs": [
    {
     "data": {
      "text/plain": [
       "\"write_to_csv.csv\""
      ]
     },
     "execution_count": 15,
     "metadata": {},
     "output_type": "execute_result"
    }
   ],
   "source": [
    "using DataFrames, CSV\n",
    "\n",
    "# Create a DataFrame\n",
    "df = DataFrame(Name = [\"Alice\", \"Bob\", \"Charlie\"], Age = [25, 30, 35], Salary = [50000, 60000, 70000])\n",
    "\n",
    "# Write to a CSV file\n",
    "CSV.write(\"write_to_csv.csv\", df)\n"
   ]
  },
  {
   "cell_type": "code",
   "execution_count": 16,
   "id": "2ca50714-0cae-4cd2-9646-69ac2c652e1a",
   "metadata": {},
   "outputs": [
    {
     "name": "stdout",
     "output_type": "stream",
     "text": [
      "\u001b[1m3×3 DataFrame\u001b[0m\n",
      "\u001b[1m Row \u001b[0m│\u001b[1m Name    \u001b[0m\u001b[1m Age   \u001b[0m\u001b[1m Salary \u001b[0m\n",
      "     │\u001b[90m String7 \u001b[0m\u001b[90m Int64 \u001b[0m\u001b[90m Int64  \u001b[0m\n",
      "─────┼────────────────────────\n",
      "   1 │ Alice       25   50000\n",
      "   2 │ Bob         30   60000\n",
      "   3 │ Charlie     35   70000\n"
     ]
    }
   ],
   "source": [
    "# Read from the CSV file\n",
    "df = CSV.read(\"write_to_csv.csv\", DataFrame)\n",
    "\n",
    "println(df)\n"
   ]
  },
  {
   "cell_type": "markdown",
   "id": "138ed294-24e4-4bd9-b044-97966f561bb4",
   "metadata": {},
   "source": [
    "#### Working with Json files"
   ]
  },
  {
   "cell_type": "code",
   "execution_count": 17,
   "id": "22b1730f-bda3-47e9-a313-7b541c9ed3c4",
   "metadata": {},
   "outputs": [
    {
     "name": "stderr",
     "output_type": "stream",
     "text": [
      "\u001b[32m\u001b[1m   Resolving\u001b[22m\u001b[39m package versions...\n",
      "\u001b[32m\u001b[1m    Updating\u001b[22m\u001b[39m `~/.julia/environments/v1.8/Project.toml`\n",
      " \u001b[90m [682c06a0] \u001b[39m\u001b[92m+ JSON v0.21.4\u001b[39m\n",
      "\u001b[32m\u001b[1m  No Changes\u001b[22m\u001b[39m to `~/.julia/environments/v1.8/Manifest.toml`\n"
     ]
    }
   ],
   "source": [
    "Pkg.add(\"JSON\")\n"
   ]
  },
  {
   "cell_type": "code",
   "execution_count": 19,
   "id": "43245b2b-f4ee-4f78-a453-1007754f7d64",
   "metadata": {},
   "outputs": [
    {
     "data": {
      "text/plain": [
       "40"
      ]
     },
     "execution_count": 19,
     "metadata": {},
     "output_type": "execute_result"
    }
   ],
   "source": [
    "using JSON\n",
    "\n",
    "# Create a dictionary\n",
    "data = Dict(\"name\" => \"Alice\", \"age\" => 25, \"salary\" => 50000)\n",
    "\n",
    "# Write the dictionary to a JSON file\n",
    "open(\"write_to_json.json\", \"w\") do file\n",
    "    write(file, JSON.json(data))\n",
    "end"
   ]
  },
  {
   "cell_type": "code",
   "execution_count": 21,
   "id": "ddb314f6-2e1b-49fb-98c7-21278e0f6e5d",
   "metadata": {},
   "outputs": [
    {
     "name": "stdout",
     "output_type": "stream",
     "text": [
      "Dict{String, Any}(\"name\" => \"Alice\", \"salary\" => 50000, \"age\" => 25)\n"
     ]
    }
   ],
   "source": [
    "#### read from json\n",
    "content = JSON.parsefile(\"write_to_json.json\")\n",
    "\n",
    "println(content)"
   ]
  },
  {
   "cell_type": "markdown",
   "id": "aff751e0-6050-4e05-91de-d5b0eff67d2f",
   "metadata": {},
   "source": [
    "#### Binary I/O"
   ]
  },
  {
   "cell_type": "code",
   "execution_count": 23,
   "id": "32655bee-3ab2-45d0-be3f-d13f9a2e52f9",
   "metadata": {},
   "outputs": [
    {
     "data": {
      "text/plain": [
       "32"
      ]
     },
     "execution_count": 23,
     "metadata": {},
     "output_type": "execute_result"
    }
   ],
   "source": [
    "# Create an array of numbers\n",
    "arr = [1.0, 2.0, 3.0, 4.0]\n",
    "\n",
    "# Open a file and write the binary data\n",
    "open(\"write_to_bin.bin\", \"w\") do file\n",
    "    write(file, arr)\n",
    "end\n"
   ]
  },
  {
   "cell_type": "code",
   "execution_count": 24,
   "id": "5f422ca4-0568-4c69-a5c7-13c1dd0de6a6",
   "metadata": {},
   "outputs": [
    {
     "name": "stdout",
     "output_type": "stream",
     "text": [
      "[1.0, 2.0, 3.0, 4.0]\n"
     ]
    }
   ],
   "source": [
    "# Read the binary data from file\n",
    "arr_read = Vector{Float64}(undef, 4)  # Pre-allocate array\n",
    "open(\"write_to_bin.bin\", \"r\") do file\n",
    "    read!(file, arr_read)\n",
    "end\n",
    "\n",
    "println(arr_read)"
   ]
  },
  {
   "cell_type": "markdown",
   "id": "faee6bdb-ba0d-4b99-be3d-04dfc7c5d091",
   "metadata": {},
   "source": [
    "#### Error handeling"
   ]
  },
  {
   "cell_type": "code",
   "execution_count": 25,
   "id": "b377832e-5730-48cb-b600-74ec4d0952eb",
   "metadata": {},
   "outputs": [
    {
     "name": "stdout",
     "output_type": "stream",
     "text": [
      "An error occurred: SystemError(\"opening file \\\"non_existent_file.txt\\\"\", 2, nothing)\n"
     ]
    }
   ],
   "source": [
    "try\n",
    "    # Try to open a non-existent file\n",
    "    content = read(\"non_existent_file.txt\", String)\n",
    "    println(content)\n",
    "catch e\n",
    "    # Catch and print the error\n",
    "    println(\"An error occurred: $e\")\n",
    "end\n"
   ]
  },
  {
   "cell_type": "code",
   "execution_count": 26,
   "id": "1f9823c5-a4d7-4fe4-9f7a-8e10a15f0942",
   "metadata": {},
   "outputs": [
    {
     "name": "stdout",
     "output_type": "stream",
     "text": [
      "Error: Could not open the file. SystemError(\"opening file \\\"example.txt\\\"\", 2, nothing)\n"
     ]
    }
   ],
   "source": [
    "file = nothing\n",
    "try\n",
    "    # Open a file that may or may not exist\n",
    "    file = open(\"example.txt\", \"r\")\n",
    "    content = read(file, String)\n",
    "    println(content)\n",
    "catch e\n",
    "    println(\"Error: Could not open the file. $e\")\n",
    "finally\n",
    "    if file !== nothing\n",
    "        close(file)  # Ensure the file is closed\n",
    "        println(\"File closed successfully.\")\n",
    "    end\n",
    "end\n"
   ]
  },
  {
   "cell_type": "code",
   "execution_count": 27,
   "id": "1e660be5-c411-412d-aa23-b525b0fbc316",
   "metadata": {},
   "outputs": [
    {
     "name": "stdout",
     "output_type": "stream",
     "text": [
      "Custom error: ErrorException(\"File does not exist: non_existent_file.txt\")\n"
     ]
    }
   ],
   "source": [
    "#### Custome errors\n",
    "\n",
    "function read_file_safe(filename)\n",
    "    if !isfile(filename)\n",
    "        throw(ErrorException(\"File does not exist: $filename\"))\n",
    "    end\n",
    "    return read(filename, String)\n",
    "end\n",
    "\n",
    "try\n",
    "    read_file_safe(\"non_existent_file.txt\")\n",
    "catch e\n",
    "    println(\"Custom error: $e\")\n",
    "end\n"
   ]
  },
  {
   "cell_type": "code",
   "execution_count": null,
   "id": "6370bf5a-391c-4061-8565-abbc08829485",
   "metadata": {},
   "outputs": [],
   "source": []
  }
 ],
 "metadata": {
  "kernelspec": {
   "display_name": "Julia 1.8.1",
   "language": "julia",
   "name": "julia-1.8"
  },
  "language_info": {
   "file_extension": ".jl",
   "mimetype": "application/julia",
   "name": "julia",
   "version": "1.8.1"
  }
 },
 "nbformat": 4,
 "nbformat_minor": 5
}
