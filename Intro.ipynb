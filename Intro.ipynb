{
 "cells": [
  {
   "cell_type": "markdown",
   "id": "5a5bcc42-d293-4bcc-8bfc-11552e4d2c64",
   "metadata": {},
   "source": [
    "## Get to know the syntax"
   ]
  },
  {
   "cell_type": "code",
   "execution_count": 1,
   "id": "f375f418-28e4-4ff6-a27f-425850bc80ab",
   "metadata": {},
   "outputs": [
    {
     "name": "stdout",
     "output_type": "stream",
     "text": [
      "Hello Julia!\n"
     ]
    }
   ],
   "source": [
    "println(\"Hello Julia!\")"
   ]
  },
  {
   "cell_type": "markdown",
   "id": "eb573dcf-0743-45cd-b80c-d74865e86352",
   "metadata": {},
   "source": [
    "#### Variables and basic operations"
   ]
  },
  {
   "cell_type": "code",
   "execution_count": 2,
   "id": "6fa4eb30-03dd-4b94-a53d-31c3f115c190",
   "metadata": {},
   "outputs": [
    {
     "name": "stdout",
     "output_type": "stream",
     "text": [
      "5\n",
      "10.5\n",
      "learning julia\n"
     ]
    }
   ],
   "source": [
    "a = 5\n",
    "b =10.5\n",
    "c = \"learning julia\"\n",
    "\n",
    "println(a)\n",
    "println(b)\n",
    "println(c)"
   ]
  },
  {
   "cell_type": "code",
   "execution_count": 3,
   "id": "7f329271-af57-4bf2-b3f3-538baa8a829d",
   "metadata": {},
   "outputs": [
    {
     "name": "stdout",
     "output_type": "stream",
     "text": [
      "Sum: 15.5  Prod: 52.5  Quot: 2.1  Difference: 5.5\n"
     ]
    }
   ],
   "source": [
    "sum = a + b\n",
    "product = a * b\n",
    "quotient = b / a\n",
    "difference = b - a\n",
    "\n",
    "println(\"Sum: \", sum, \"  \", \"Prod: \",product, \"  \", \"Quot: \", quotient, \"  \", \"Difference: \", difference)"
   ]
  },
  {
   "cell_type": "markdown",
   "id": "aed9f69f-0ab7-4ac7-838b-cc574154e975",
   "metadata": {},
   "source": [
    "#### Creating Functions"
   ]
  },
  {
   "cell_type": "code",
   "execution_count": 4,
   "id": "8a689eb9-9e21-47a2-851b-fe320e0ee959",
   "metadata": {},
   "outputs": [
    {
     "data": {
      "text/plain": [
       "5"
      ]
     },
     "execution_count": 4,
     "metadata": {},
     "output_type": "execute_result"
    }
   ],
   "source": [
    "function add_number(x, y)\n",
    "    sum = x + y\n",
    "    return sum\n",
    "end\n",
    "\n",
    "add_number(2, 3)"
   ]
  },
  {
   "cell_type": "code",
   "execution_count": 5,
   "id": "bdb30449-6b5b-433b-9fe7-4265324483bf",
   "metadata": {},
   "outputs": [
    {
     "name": "stdout",
     "output_type": "stream",
     "text": [
      "Hello, Amir !\n",
      "Hello, Stranger !\n"
     ]
    }
   ],
   "source": [
    "function greet(name=\"Stranger\")\n",
    "    println(\"Hello, $name !\")\n",
    "end\n",
    "\n",
    "greet(\"Amir\")\n",
    "greet()"
   ]
  },
  {
   "cell_type": "markdown",
   "id": "ff490a80-80a2-4ba3-9d9c-4d7695ca782f",
   "metadata": {},
   "source": [
    "#### Conditionals"
   ]
  },
  {
   "cell_type": "code",
   "execution_count": 6,
   "id": "606b6259-cb99-40a7-8e4d-0b782c6c351b",
   "metadata": {},
   "outputs": [
    {
     "name": "stdout",
     "output_type": "stream",
     "text": [
      "7 is odd\n"
     ]
    }
   ],
   "source": [
    "number = 7\n",
    "\n",
    "if number % 2 == 0\n",
    "    println(\"$number is even\")\n",
    "elseif number % 2 != 0\n",
    "    println(\"$number is odd\")\n",
    "else\n",
    "    println(\"Not a valid number!\")\n",
    "end"
   ]
  },
  {
   "cell_type": "markdown",
   "id": "3aa51f7b-2a4d-4625-bc11-de21562ff610",
   "metadata": {},
   "source": [
    "#### For loops"
   ]
  },
  {
   "cell_type": "code",
   "execution_count": 7,
   "id": "78cc5f49-47e2-41a8-a619-d55ae088a732",
   "metadata": {},
   "outputs": [
    {
     "name": "stdout",
     "output_type": "stream",
     "text": [
      "Iteration 1\n",
      "Iteration 2\n",
      "Iteration 3\n",
      "Iteration 4\n",
      "Iteration 5\n"
     ]
    }
   ],
   "source": [
    "for i in 1:5\n",
    "    println(\"Iteration $i\")\n",
    "end"
   ]
  },
  {
   "cell_type": "markdown",
   "id": "bc1202f4-24d4-4292-91be-b1848151b2ab",
   "metadata": {},
   "source": [
    "#### While loops"
   ]
  },
  {
   "cell_type": "code",
   "execution_count": 8,
   "id": "82418751-86ff-40b8-b893-1733471d1e01",
   "metadata": {},
   "outputs": [
    {
     "name": "stdout",
     "output_type": "stream",
     "text": [
      "Counter is 1\n",
      "Counter is 2\n",
      "Counter is 3\n",
      "Counter is 4\n",
      "Counter is 5\n"
     ]
    }
   ],
   "source": [
    "counter = 1\n",
    "while counter <= 5\n",
    "    println(\"Counter is $counter\")\n",
    "    counter += 1\n",
    "end"
   ]
  },
  {
   "cell_type": "markdown",
   "id": "16111e68-21e1-4cc1-b5e1-ef0f0d55a720",
   "metadata": {},
   "source": [
    "### Arrays"
   ]
  },
  {
   "cell_type": "code",
   "execution_count": 9,
   "id": "f4e8079e-a480-4fde-b2c9-209f6011af2c",
   "metadata": {},
   "outputs": [
    {
     "data": {
      "text/plain": [
       "6"
      ]
     },
     "execution_count": 9,
     "metadata": {},
     "output_type": "execute_result"
    }
   ],
   "source": [
    "# Create a 1D array\n",
    "numbers = [1, 2, 3, 4, 5]\n",
    "\n",
    "# Access elements\n",
    "first_element = numbers[1]\n",
    "last_element = numbers[end]\n",
    "\n",
    "# Modify elements\n",
    "numbers[2] = 10\n",
    "\n",
    "# Create a 2D array (matrix)\n",
    "matrix = [1 2 3; 4 5 6; 7 8 9]\n",
    "\n",
    "# Access elements in a matrix\n",
    "element_2_3 = matrix[2, 3]\n"
   ]
  },
  {
   "cell_type": "markdown",
   "id": "feb46b4d-c110-4704-969b-fca3dfdc4217",
   "metadata": {},
   "source": [
    "#### Array Operations"
   ]
  },
  {
   "cell_type": "code",
   "execution_count": 10,
   "id": "e7c8bb91-edd5-48e9-8f0b-daaf14ff1c1c",
   "metadata": {},
   "outputs": [
    {
     "data": {
      "text/plain": [
       "8-element Vector{Int64}:\n",
       "  1\n",
       " 10\n",
       "  3\n",
       "  4\n",
       "  5\n",
       "  7\n",
       "  8\n",
       "  9"
      ]
     },
     "execution_count": 10,
     "metadata": {},
     "output_type": "execute_result"
    }
   ],
   "source": [
    "#Add an element to the end\n",
    "push!(numbers, 6)\n",
    "\n",
    "# Remove the last element\n",
    "pop!(numbers)\n",
    "\n",
    "# Append another array\n",
    "more_numbers = [7, 8, 9]\n",
    "combined = vcat(numbers, more_numbers)\n"
   ]
  },
  {
   "cell_type": "markdown",
   "id": "f8d0ae34-a087-4f34-89af-acc6e5a9da88",
   "metadata": {},
   "source": [
    "#### Dictionaries"
   ]
  },
  {
   "cell_type": "code",
   "execution_count": 11,
   "id": "e9e3fe92-16c0-400a-92b3-d2cdfd91ea2d",
   "metadata": {},
   "outputs": [
    {
     "data": {
      "text/plain": [
       "\"Engineer\""
      ]
     },
     "execution_count": 11,
     "metadata": {},
     "output_type": "execute_result"
    }
   ],
   "source": [
    "# Create a dictionary\n",
    "dict = Dict(\"name\" => \"Alice\", \"age\" => 30, \"city\" => \"New York\")\n",
    "\n",
    "# Access values\n",
    "name = dict[\"name\"]\n",
    "age = dict[\"age\"]\n",
    "\n",
    "# Modify values\n",
    "dict[\"age\"] = 31\n",
    "\n",
    "# Add new key-value pair\n",
    "dict[\"occupation\"] = \"Engineer\"\n"
   ]
  },
  {
   "cell_type": "markdown",
   "id": "0478fd24-a7c5-4f4b-967d-07c5f82daae8",
   "metadata": {},
   "source": [
    "#### Tuples"
   ]
  },
  {
   "cell_type": "code",
   "execution_count": 12,
   "id": "ff250b08-2d88-49af-a90f-7ebbc5545932",
   "metadata": {},
   "outputs": [
    {
     "data": {
      "text/plain": [
       "\"New York\""
      ]
     },
     "execution_count": 12,
     "metadata": {},
     "output_type": "execute_result"
    }
   ],
   "source": [
    "# Create a tuple\n",
    "person = (\"Alice\", 30, \"New York\")\n",
    "\n",
    "# Access elements\n",
    "name = person[1]\n",
    "age = person[2]\n",
    "city = person[3]"
   ]
  },
  {
   "cell_type": "markdown",
   "id": "c39cb412-3630-49da-93b5-7ca9cbe49cfe",
   "metadata": {},
   "source": [
    "# Advanced Funcitons"
   ]
  },
  {
   "cell_type": "markdown",
   "id": "eb646248-001e-4645-bb49-cdaa28220779",
   "metadata": {},
   "source": [
    "#### Multiple Dispatch"
   ]
  },
  {
   "cell_type": "code",
   "execution_count": 13,
   "id": "8445a83b-dc25-45c0-ab6a-72d568f40ea3",
   "metadata": {},
   "outputs": [
    {
     "name": "stdout",
     "output_type": "stream",
     "text": [
      "10 is integer\n",
      "1.2 is float\n",
      "Amir is string\n"
     ]
    }
   ],
   "source": [
    "function describe(x::Int)\n",
    "    println(\"$x is integer\")\n",
    "end\n",
    "\n",
    "function describe(x::Float64)\n",
    "    println(\"$x is float\")\n",
    "end\n",
    "\n",
    "function describe(x::String)\n",
    "    println(\"$x is string\")\n",
    "end\n",
    "\n",
    "describe(10)\n",
    "describe(1.2)\n",
    "describe(\"Amir\")"
   ]
  },
  {
   "cell_type": "markdown",
   "id": "a5e70336-b864-4aec-9b0c-6ea2cbfba29b",
   "metadata": {},
   "source": [
    "#### Anonymous functions (Lambda functions) and closure"
   ]
  },
  {
   "cell_type": "code",
   "execution_count": 14,
   "id": "2047c40c-9677-4a45-bf99-c9bf6a2031bf",
   "metadata": {},
   "outputs": [
    {
     "name": "stdout",
     "output_type": "stream",
     "text": [
      "4\n",
      "[1, 4, 9, 16]\n"
     ]
    }
   ],
   "source": [
    "square = x -> x^2\n",
    "println(square(2))\n",
    "\n",
    "# lamda functions can be passed to higher-order funcitons\n",
    "array = [1, 2, 3, 4]\n",
    "squared_numbers = map(x -> x^2, array)\n",
    "println(squared_numbers)"
   ]
  },
  {
   "cell_type": "markdown",
   "id": "37025e5c-8d8a-4f2d-b660-3cb5df2e86cf",
   "metadata": {},
   "source": [
    "#### function overloading"
   ]
  },
  {
   "cell_type": "code",
   "execution_count": 15,
   "id": "a4bab4d6-b9d7-4149-bf7f-547b14c67184",
   "metadata": {},
   "outputs": [
    {
     "name": "stdout",
     "output_type": "stream",
     "text": [
      "I am Amir\n",
      "I am Dr. Amir\n"
     ]
    }
   ],
   "source": [
    "function greet(name)\n",
    "    println(\"I am $name\")\n",
    "end\n",
    "\n",
    "function greet(name, pos)\n",
    "    println(\"I am $pos $name\")\n",
    "end\n",
    "\n",
    "greet(\"Amir\")\n",
    "greet(\"Amir\", \"Dr.\")"
   ]
  },
  {
   "cell_type": "markdown",
   "id": "fba6f611-284d-4039-8b2e-aced94857812",
   "metadata": {},
   "source": [
    "# Modules and Packages"
   ]
  },
  {
   "cell_type": "markdown",
   "id": "ec145db3-b35c-47a6-9248-f24b1141cac4",
   "metadata": {},
   "source": [
    "#### creating modules"
   ]
  },
  {
   "cell_type": "code",
   "execution_count": 16,
   "id": "6b744eab-96dd-4efc-ac32-2b26ed9db597",
   "metadata": {},
   "outputs": [
    {
     "name": "stdout",
     "output_type": "stream",
     "text": [
      "Addition result: 5\n",
      "Multiplication result: 20\n"
     ]
    }
   ],
   "source": [
    "# created a module in a .jl format: MyMath.jl\n",
    "# Using the created module below:\n",
    "include(\"MyMath.jl\")\n",
    "using .MyMath\n",
    "\n",
    "result = add(2, 3)\n",
    "println(\"Addition result: $result\")\n",
    "\n",
    "result = multiply(4, 5)\n",
    "println(\"Multiplication result: $result\")"
   ]
  },
  {
   "cell_type": "markdown",
   "id": "d1e30823-b903-47ff-a3b8-21db0df7b6ae",
   "metadata": {},
   "source": [
    "#### External exsiting packages"
   ]
  },
  {
   "cell_type": "code",
   "execution_count": 2,
   "id": "6bc51a01-ad49-418a-94dc-5e517d53d25f",
   "metadata": {},
   "outputs": [
    {
     "name": "stderr",
     "output_type": "stream",
     "text": [
      "\u001b[32m\u001b[1m   Resolving\u001b[22m\u001b[39m package versions...\n",
      "\u001b[32m\u001b[1m  No Changes\u001b[22m\u001b[39m to `~/.julia/environments/v1.8/Project.toml`\n",
      "\u001b[32m\u001b[1m  No Changes\u001b[22m\u001b[39m to `~/.julia/environments/v1.8/Manifest.toml`\n"
     ]
    }
   ],
   "source": [
    "import Pkg\n",
    "Pkg.add(\"DataFrames\")"
   ]
  },
  {
   "cell_type": "code",
   "execution_count": 5,
   "id": "057c4ef4-7940-41a8-bf34-0f9da8ed6607",
   "metadata": {},
   "outputs": [
    {
     "name": "stdout",
     "output_type": "stream",
     "text": [
      "\u001b[1m3×2 DataFrame\u001b[0m\n",
      "\u001b[1m Row \u001b[0m│\u001b[1m Name   \u001b[0m\u001b[1m Age   \u001b[0m\n",
      "     │\u001b[90m String \u001b[0m\u001b[90m Int64 \u001b[0m\n",
      "─────┼───────────────\n",
      "   1 │ Amir       28\n",
      "   2 │ Shima      29\n",
      "   3 │ Dario      30\n"
     ]
    }
   ],
   "source": [
    "using DataFrames\n",
    "df = DataFrame(Name=[\"Amir\", \"Shima\", \"Dario\"], Age=[28, 29, 30])\n",
    "println(df)"
   ]
  },
  {
   "cell_type": "code",
   "execution_count": null,
   "id": "261ca815-6c1e-4ba3-ad77-8a923ab056f8",
   "metadata": {},
   "outputs": [],
   "source": []
  }
 ],
 "metadata": {
  "kernelspec": {
   "display_name": "Julia 1.8.1",
   "language": "julia",
   "name": "julia-1.8"
  },
  "language_info": {
   "file_extension": ".jl",
   "mimetype": "application/julia",
   "name": "julia",
   "version": "1.8.1"
  }
 },
 "nbformat": 4,
 "nbformat_minor": 5
}
